{
 "cells": [
  {
   "cell_type": "code",
   "execution_count": 1,
   "metadata": {},
   "outputs": [
    {
     "data": {
      "text/plain": [
       "14000"
      ]
     },
     "execution_count": 1,
     "metadata": {},
     "output_type": "execute_result"
    }
   ],
   "source": [
    "import csv\n",
    "import numpy as np\n",
    "from numpy import array\n",
    "from numpy.linalg import matrix_rank\n",
    "count = 0\n",
    "features_list = []\n",
    "features_list2 = []\n",
    "with open( \"question-2-train-features.csv\") as csv_hop:\n",
    "          hop = csv.reader(csv_hop, delimiter=\",\", quotechar=\" \")\n",
    "\n",
    "          for vector in hop:\n",
    "                i = 0\n",
    "                while(i < 8):\n",
    "                    value2=vector[i].replace(',', '.')\n",
    "                    features_list.append(float(value2))\n",
    "                    features_list2.append(vector[i])\n",
    "                    i = i + 1\n",
    "                    \n",
    "features_list = np.reshape(features_list, (14000,8))\n",
    "len(features_list)\n"
   ]
  },
  {
   "cell_type": "code",
   "execution_count": 2,
   "metadata": {},
   "outputs": [
    {
     "name": "stdout",
     "output_type": "stream",
     "text": [
      "0.46\n",
      "6.000000000000000000e+00\n"
     ]
    }
   ],
   "source": [
    "count = 0\n",
    "features_test_list = []\n",
    "features_test_list2 = []\n",
    "with open( \"question-2-test-features.csv\") as csv_hop:\n",
    "          hop = csv.reader(csv_hop, delimiter=\",\", quotechar=\" \")\n",
    "\n",
    "          for vector in hop:\n",
    "                i = 0\n",
    "                while(i < 8):\n",
    "                    value2=vector[i].replace(',', '.')\n",
    "                    features_test_list.append(float(value2))\n",
    "                    features_test_list2.append(vector[i])\n",
    "                    i = i + 1\n",
    "                    \n",
    "features_test_list = np.reshape(features_test_list, (3378,8))\n",
    "print(features_test_list[2][6])\n",
    "print(features_test_list2[2])"
   ]
  },
  {
   "cell_type": "code",
   "execution_count": 3,
   "metadata": {},
   "outputs": [
    {
     "name": "stdout",
     "output_type": "stream",
     "text": [
      "13.0\n",
      "1.300000000000000000e+01\n"
     ]
    }
   ],
   "source": [
    "count = 0\n",
    "labels_list = []\n",
    "labels_list2 = []\n",
    "with open( \"question-2-train-labels.csv\") as csv_hop:\n",
    "          hop = csv.reader(csv_hop, delimiter=\" \")\n",
    "\n",
    "          for vector in hop:\n",
    "                value2=vector[0].replace(',', '.')\n",
    "                labels_list.append(float(value2))\n",
    "                labels_list2.append(vector[0])\n",
    "        \n",
    "labels_list = np.array(labels_list)\n",
    "\n",
    "print(labels_list[2])\n",
    "print(labels_list2[2])"
   ]
  },
  {
   "cell_type": "code",
   "execution_count": 4,
   "metadata": {},
   "outputs": [
    {
     "name": "stdout",
     "output_type": "stream",
     "text": [
      "531.0\n",
      "5.310000000000000000e+02\n"
     ]
    }
   ],
   "source": [
    "count = 0\n",
    "labels_test_list = []\n",
    "labels_test_list2 = []\n",
    "with open( \"question-2-test-labels.csv\") as csv_hop:\n",
    "          hop = csv.reader(csv_hop, delimiter=\" \")\n",
    "\n",
    "          for vector in hop:\n",
    "                value2=vector[0].replace(',', '.')\n",
    "                labels_test_list.append(float(value2))\n",
    "                labels_test_list2.append(vector[0])\n",
    "            \n",
    "print(labels_test_list[2])\n",
    "print(labels_test_list2[2])"
   ]
  },
  {
   "cell_type": "code",
   "execution_count": 5,
   "metadata": {},
   "outputs": [],
   "source": [
    "from copy import copy, deepcopy\n",
    "i = 0\n",
    "fold = []\n",
    "hop = []\n",
    "hopl = []\n",
    "label_fold = []\n",
    "fold.append([])\n",
    "hop.append([])\n",
    "hopl.append([])\n",
    "label_fold.append([])\n",
    "fold[0] = features_list[1400:14000]#0\n",
    "label_fold[0] = labels_list[1400:14000]#0\n",
    "hop[0] = features_list[0:1400]#0\n",
    "hopl[0] = labels_list[0:1400]#0\n",
    "\n",
    "\n",
    "fold.append([])\n",
    "hop.append([])\n",
    "hopl.append([])\n",
    "label_fold.append([])\n",
    "fold[1] = np.append(features_list[0:1400], features_list[2800:14000])\n",
    "fold[1]  = np.reshape(fold[1] , (12600,8))\n",
    "label_fold[1] = np.append(labels_list[0:1400], labels_list[2800:14000])\n",
    "hop[1] = features_list[1400:2800]#0\n",
    "hopl[1] = labels_list[1400:2800]#0\n",
    "\n",
    "\n",
    "fold.append([])\n",
    "hop.append([])\n",
    "hopl.append([])\n",
    "label_fold.append([])\n",
    "fold[2] = np.append(features_list[0:2800], features_list[4200:14000])\n",
    "fold[2]  = np.reshape(fold[2] , (12600,8))\n",
    "label_fold[2] = np.append(labels_list[0:2800], labels_list[4200:14000])\n",
    "hop[2] = features_list[2800:4200]#0\n",
    "hopl[2] = labels_list[2800:4200]#0\n",
    "\n",
    "\n",
    "\n",
    "fold.append([])\n",
    "hop.append([])\n",
    "hopl.append([])\n",
    "label_fold.append([])\n",
    "fold[3] = np.append(features_list[0:4200], features_list[5600:14000])\n",
    "fold[3]  = np.reshape(fold[3] , (12600,8))\n",
    "label_fold[3] = np.append(labels_list[0:4200], labels_list[5600:14000])\n",
    "hop[3] = features_list[4200:5600]#0\n",
    "hopl[3] = labels_list[4200:5600]#0\n",
    "\n",
    "\n",
    "\n",
    "fold.append([])\n",
    "hop.append([])\n",
    "hopl.append([])\n",
    "label_fold.append([])\n",
    "fold[4] = np.append(features_list[0:5600], features_list[7000:14000])\n",
    "fold[4]  = np.reshape(fold[4] , (12600,8))\n",
    "label_fold[4] = np.append(labels_list[0:5600], labels_list[7000:14000])\n",
    "hop[4] = features_list[5600:7000]#0\n",
    "hopl[4] = labels_list[5600:7000]#0\n",
    "\n",
    "\n",
    "fold.append([])\n",
    "hop.append([])\n",
    "hopl.append([])\n",
    "label_fold.append([])\n",
    "fold[5] = np.append(features_list[0:7000], features_list[8400:14000])\n",
    "fold[5]  = np.reshape(fold[5] , (12600,8))\n",
    "label_fold[5] = np.append(labels_list[0:7000], labels_list[8400:14000])\n",
    "hop[5] = features_list[7000:8400]#0\n",
    "hopl[5] = labels_list[7000:8400]#0\n",
    "\n",
    "\n",
    "fold.append([])\n",
    "hop.append([])\n",
    "hopl.append([])\n",
    "label_fold.append([])\n",
    "fold[6] = np.append(features_list[0:8400], features_list[9800:14000])\n",
    "fold[6]  = np.reshape(fold[6] , (12600,8))\n",
    "label_fold[6] = np.append(labels_list[0:8400], labels_list[9800:14000])\n",
    "hop[6] = features_list[8400:9800]#0\n",
    "hopl[6] = labels_list[8400:9800]#0\n",
    "\n",
    "\n",
    "fold.append([])\n",
    "hop.append([])\n",
    "hopl.append([])\n",
    "label_fold.append([])\n",
    "fold[7] = np.append(features_list[0:9800], features_list[11200:14000])\n",
    "fold[7]  = np.reshape(fold[7] , (12600,8))\n",
    "label_fold[7] = np.append(labels_list[0:9800], labels_list[11200:14000])\n",
    "hop[7] = features_list[9800:11200]#0\n",
    "hopl[7] = labels_list[9800:11200]#0\n",
    "\n",
    "\n",
    "fold.append([])\n",
    "hop.append([])\n",
    "hopl.append([])\n",
    "label_fold.append([])\n",
    "fold[8] = np.append(features_list[0:11200], features_list[12600:14000])\n",
    "fold[8]  = np.reshape(fold[8] , (12600,8))\n",
    "label_fold[8] = np.append(labels_list[0:11200], labels_list[12600:14000])\n",
    "hop[8] = features_list[11200:12600]#0\n",
    "hopl[8] = labels_list[11200:12600]#0\n",
    "\n",
    "\n",
    "fold.append([])\n",
    "hop.append([])\n",
    "hopl.append([])\n",
    "label_fold.append([])\n",
    "fold[9] = features_list[0:12600]#0\n",
    "label_fold[9] = labels_list[0:12600]#0\n",
    "hop[9] = features_list[12600:14000]#0\n",
    "\n",
    "hopl[9] = labels_list[12600:14000]#0\n"
   ]
  },
  {
   "cell_type": "code",
   "execution_count": 45,
   "metadata": {},
   "outputs": [
    {
     "name": "stdout",
     "output_type": "stream",
     "text": [
      "i th trial : \n",
      "[  2.   2.   2. ... 106. 106. 106.]\n",
      "LSVC Accuracy : 0.030714285714285715\n",
      "i th trial : \n",
      "[95. 95. 95. ... 62. 62. 62.]\n",
      "LSVC Accuracy : 0.02\n",
      "i th trial : \n",
      "[ 62.  62.  62. ... 123. 123. 123.]\n",
      "LSVC Accuracy : 0.02\n",
      "i th trial : \n",
      "[95.  5.  5. ...  5.  5.  5.]\n",
      "LSVC Accuracy : 0.015714285714285715\n",
      "i th trial : \n",
      "[4. 6. 6. ... 4. 4. 4.]\n",
      "LSVC Accuracy : 0.015714285714285715\n",
      "i th trial : \n",
      "[6. 6. 6. ... 6. 6. 6.]\n",
      "LSVC Accuracy : 0.012857142857142857\n",
      "i th trial : \n",
      "[  5.   6. 114. ...   7.   7.   7.]\n",
      "LSVC Accuracy : 0.017142857142857144\n",
      "i th trial : \n",
      "[  7.  95.  95. ... 152. 152. 152.]\n",
      "LSVC Accuracy : 0.017857142857142856\n",
      "i th trial : \n",
      "[152. 190.   5. ...   5.   5.   5.]\n",
      "LSVC Accuracy : 0.01\n",
      "i th trial : \n",
      "[ 5.  5.  5. ... 26. 26. 26.]\n",
      "LSVC Accuracy : 0.011428571428571429\n"
     ]
    }
   ],
   "source": [
    "from sklearn.svm import LinearSVC\n",
    "from sklearn.preprocessing import StandardScaler\n",
    "from sklearn.metrics import accuracy_score, classification_report\n",
    "scaler = StandardScaler()\n",
    "i = 0\n",
    "while i < 10:\n",
    "    print(\"i th trial : \")\n",
    "    scaler.fit(fold[i])\n",
    "    clf = LinearSVC(C = 10 ** -3, max_iter = 2000)\n",
    "    clf.fit(fold[i], label_fold[i])\n",
    "    model = clf.predict(hop[i])\n",
    "    print(clf.predict(hop[i]))\n",
    "    print(\"LSVC Accuracy :\", accuracy_score(hopl[i], model))\n",
    "    i = i + 1"
   ]
  },
  {
   "cell_type": "code",
   "execution_count": 46,
   "metadata": {},
   "outputs": [
    {
     "name": "stdout",
     "output_type": "stream",
     "text": [
      "i th trial : \n",
      "[ 2.  2.  2. ... 85. 85. 85.]\n",
      "LSVC Accuracy : 0.03428571428571429\n",
      "i th trial : \n",
      "[84. 84. 83. ... 36. 36. 36.]\n",
      "LSVC Accuracy : 0.019285714285714285\n",
      "i th trial : \n",
      "[ 36.  36.  75. ... 148. 148. 148.]\n",
      "LSVC Accuracy : 0.014285714285714285\n",
      "i th trial : \n",
      "[148.   5.   6. ...   6.   5.   6.]\n",
      "LSVC Accuracy : 0.023571428571428573\n",
      "i th trial : \n",
      "[6. 6. 6. ... 4. 4. 4.]\n",
      "LSVC Accuracy : 0.015\n",
      "i th trial : \n",
      "[ 4.  4. 24. ... 24. 24. 24.]\n",
      "LSVC Accuracy : 0.015714285714285715\n",
      "i th trial : \n",
      "[75. 75. 75. ...  2.  2.  2.]\n",
      "LSVC Accuracy : 0.02142857142857143\n",
      "i th trial : \n",
      "[  4.   4.  20. ... 145. 152. 152.]\n",
      "LSVC Accuracy : 0.016428571428571428\n",
      "i th trial : \n",
      "[148. 148.   6. ...   5.   5.   5.]\n",
      "LSVC Accuracy : 0.012857142857142857\n",
      "i th trial : \n",
      "[  6.   6.   6. ... 148. 174. 174.]\n",
      "LSVC Accuracy : 0.012142857142857143\n"
     ]
    }
   ],
   "source": [
    "from sklearn.svm import LinearSVC\n",
    "from sklearn.preprocessing import StandardScaler\n",
    "from sklearn.metrics import accuracy_score, classification_report\n",
    "\n",
    "scaler = StandardScaler()\n",
    "i = 0\n",
    "while i < 10:\n",
    "    print(\"i th trial : \")\n",
    "    scaler.fit(fold[i])\n",
    "    clf = LinearSVC(C = 10 ** -2, max_iter = 2000)\n",
    "    clf.fit(fold[i], label_fold[i])\n",
    "    model = clf.predict(hop[i])\n",
    "    print(clf.predict(hop[i]))\n",
    "    print(\"LSVC Accuracy :\", accuracy_score(hopl[i], model))\n",
    "    i = i + 1"
   ]
  },
  {
   "cell_type": "code",
   "execution_count": 6,
   "metadata": {},
   "outputs": [
    {
     "name": "stdout",
     "output_type": "stream",
     "text": [
      "i th trial : \n"
     ]
    },
    {
     "name": "stderr",
     "output_type": "stream",
     "text": [
      "c:\\users\\pc\\appdata\\local\\programs\\python\\python36\\lib\\site-packages\\sklearn\\svm\\base.py:931: ConvergenceWarning: Liblinear failed to converge, increase the number of iterations.\n",
      "  \"the number of iterations.\", ConvergenceWarning)\n"
     ]
    },
    {
     "name": "stdout",
     "output_type": "stream",
     "text": [
      "[  2.   2.   2. ... 250. 250. 250.]\n",
      "LSVC Accuracy : 0.03357142857142857\n",
      "i th trial : \n"
     ]
    },
    {
     "name": "stderr",
     "output_type": "stream",
     "text": [
      "c:\\users\\pc\\appdata\\local\\programs\\python\\python36\\lib\\site-packages\\sklearn\\svm\\base.py:931: ConvergenceWarning: Liblinear failed to converge, increase the number of iterations.\n",
      "  \"the number of iterations.\", ConvergenceWarning)\n"
     ]
    },
    {
     "name": "stdout",
     "output_type": "stream",
     "text": [
      "[702. 702. 702. ... 458. 458. 458.]\n",
      "LSVC Accuracy : 0.019285714285714285\n",
      "i th trial : \n"
     ]
    },
    {
     "name": "stderr",
     "output_type": "stream",
     "text": [
      "c:\\users\\pc\\appdata\\local\\programs\\python\\python36\\lib\\site-packages\\sklearn\\svm\\base.py:931: ConvergenceWarning: Liblinear failed to converge, increase the number of iterations.\n",
      "  \"the number of iterations.\", ConvergenceWarning)\n"
     ]
    },
    {
     "name": "stdout",
     "output_type": "stream",
     "text": [
      "[458. 458. 458. ... 749. 749. 749.]\n",
      "LSVC Accuracy : 0.011428571428571429\n",
      "i th trial : \n"
     ]
    },
    {
     "name": "stderr",
     "output_type": "stream",
     "text": [
      "c:\\users\\pc\\appdata\\local\\programs\\python\\python36\\lib\\site-packages\\sklearn\\svm\\base.py:931: ConvergenceWarning: Liblinear failed to converge, increase the number of iterations.\n",
      "  \"the number of iterations.\", ConvergenceWarning)\n"
     ]
    },
    {
     "name": "stdout",
     "output_type": "stream",
     "text": [
      "[957. 957. 957. ... 957. 957. 957.]\n",
      "LSVC Accuracy : 0.0\n",
      "i th trial : \n"
     ]
    },
    {
     "name": "stderr",
     "output_type": "stream",
     "text": [
      "c:\\users\\pc\\appdata\\local\\programs\\python\\python36\\lib\\site-packages\\sklearn\\svm\\base.py:931: ConvergenceWarning: Liblinear failed to converge, increase the number of iterations.\n",
      "  \"the number of iterations.\", ConvergenceWarning)\n"
     ]
    },
    {
     "name": "stdout",
     "output_type": "stream",
     "text": [
      "[685. 685. 685. ... 685. 685.   4.]\n",
      "LSVC Accuracy : 0.004285714285714286\n",
      "i th trial : \n"
     ]
    },
    {
     "name": "stderr",
     "output_type": "stream",
     "text": [
      "c:\\users\\pc\\appdata\\local\\programs\\python\\python36\\lib\\site-packages\\sklearn\\svm\\base.py:931: ConvergenceWarning: Liblinear failed to converge, increase the number of iterations.\n",
      "  \"the number of iterations.\", ConvergenceWarning)\n"
     ]
    },
    {
     "name": "stdout",
     "output_type": "stream",
     "text": [
      "[749. 749. 749. ... 749. 749. 749.]\n",
      "LSVC Accuracy : 0.0\n",
      "i th trial : \n"
     ]
    },
    {
     "name": "stderr",
     "output_type": "stream",
     "text": [
      "c:\\users\\pc\\appdata\\local\\programs\\python\\python36\\lib\\site-packages\\sklearn\\svm\\base.py:931: ConvergenceWarning: Liblinear failed to converge, increase the number of iterations.\n",
      "  \"the number of iterations.\", ConvergenceWarning)\n"
     ]
    },
    {
     "name": "stdout",
     "output_type": "stream",
     "text": [
      "[153. 153. 153. ...   2.   2. 153.]\n",
      "LSVC Accuracy : 0.018571428571428572\n",
      "i th trial : \n"
     ]
    },
    {
     "name": "stderr",
     "output_type": "stream",
     "text": [
      "c:\\users\\pc\\appdata\\local\\programs\\python\\python36\\lib\\site-packages\\sklearn\\svm\\base.py:931: ConvergenceWarning: Liblinear failed to converge, increase the number of iterations.\n",
      "  \"the number of iterations.\", ConvergenceWarning)\n"
     ]
    },
    {
     "name": "stdout",
     "output_type": "stream",
     "text": [
      "[  4.   4.   4. ... 180. 180. 180.]\n",
      "LSVC Accuracy : 0.012857142857142857\n",
      "i th trial : \n"
     ]
    },
    {
     "name": "stderr",
     "output_type": "stream",
     "text": [
      "c:\\users\\pc\\appdata\\local\\programs\\python\\python36\\lib\\site-packages\\sklearn\\svm\\base.py:931: ConvergenceWarning: Liblinear failed to converge, increase the number of iterations.\n",
      "  \"the number of iterations.\", ConvergenceWarning)\n"
     ]
    },
    {
     "name": "stdout",
     "output_type": "stream",
     "text": [
      "[522. 522.   6. ... 536. 536. 536.]\n",
      "LSVC Accuracy : 0.014285714285714285\n",
      "i th trial : \n",
      "[746. 746. 746. ... 746. 746. 746.]\n",
      "LSVC Accuracy : 0.0014285714285714286\n"
     ]
    },
    {
     "name": "stderr",
     "output_type": "stream",
     "text": [
      "c:\\users\\pc\\appdata\\local\\programs\\python\\python36\\lib\\site-packages\\sklearn\\svm\\base.py:931: ConvergenceWarning: Liblinear failed to converge, increase the number of iterations.\n",
      "  \"the number of iterations.\", ConvergenceWarning)\n"
     ]
    }
   ],
   "source": [
    "from sklearn.svm import LinearSVC\n",
    "from sklearn.preprocessing import StandardScaler\n",
    "from sklearn.metrics import accuracy_score, classification_report\n",
    "\n",
    "scaler = StandardScaler()\n",
    "i = 0\n",
    "while i < 10:\n",
    "    print(\"i th trial : \")\n",
    "    scaler.fit(fold[i])\n",
    "    clf = LinearSVC(C = 10 ** -1, max_iter = 200)\n",
    "    clf.fit(fold[i], label_fold[i])\n",
    "    model = clf.predict(hop[i])\n",
    "    print(clf.predict(hop[i]))\n",
    "    print(\"LSVC Accuracy :\", accuracy_score(hopl[i], model))    \n",
    "    i = i + 1"
   ]
  },
  {
   "cell_type": "code",
   "execution_count": 7,
   "metadata": {},
   "outputs": [
    {
     "name": "stdout",
     "output_type": "stream",
     "text": [
      "i th trial : \n"
     ]
    },
    {
     "name": "stderr",
     "output_type": "stream",
     "text": [
      "c:\\users\\pc\\appdata\\local\\programs\\python\\python36\\lib\\site-packages\\sklearn\\svm\\base.py:931: ConvergenceWarning: Liblinear failed to converge, increase the number of iterations.\n",
      "  \"the number of iterations.\", ConvergenceWarning)\n"
     ]
    },
    {
     "name": "stdout",
     "output_type": "stream",
     "text": [
      "[103. 103. 103. ... 182. 182. 182.]\n",
      "LSVC Accuracy : 0.018571428571428572\n",
      "i th trial : \n"
     ]
    },
    {
     "name": "stderr",
     "output_type": "stream",
     "text": [
      "c:\\users\\pc\\appdata\\local\\programs\\python\\python36\\lib\\site-packages\\sklearn\\svm\\base.py:931: ConvergenceWarning: Liblinear failed to converge, increase the number of iterations.\n",
      "  \"the number of iterations.\", ConvergenceWarning)\n"
     ]
    },
    {
     "name": "stdout",
     "output_type": "stream",
     "text": [
      "[133. 133. 133. ... 666. 133. 133.]\n",
      "LSVC Accuracy : 0.0014285714285714286\n",
      "i th trial : \n"
     ]
    },
    {
     "name": "stderr",
     "output_type": "stream",
     "text": [
      "c:\\users\\pc\\appdata\\local\\programs\\python\\python36\\lib\\site-packages\\sklearn\\svm\\base.py:931: ConvergenceWarning: Liblinear failed to converge, increase the number of iterations.\n",
      "  \"the number of iterations.\", ConvergenceWarning)\n"
     ]
    },
    {
     "name": "stdout",
     "output_type": "stream",
     "text": [
      "[666. 666. 666. ... 683. 822. 822.]\n",
      "LSVC Accuracy : 0.0\n",
      "i th trial : \n"
     ]
    },
    {
     "name": "stderr",
     "output_type": "stream",
     "text": [
      "c:\\users\\pc\\appdata\\local\\programs\\python\\python36\\lib\\site-packages\\sklearn\\svm\\base.py:931: ConvergenceWarning: Liblinear failed to converge, increase the number of iterations.\n",
      "  \"the number of iterations.\", ConvergenceWarning)\n"
     ]
    },
    {
     "name": "stdout",
     "output_type": "stream",
     "text": [
      "[481. 562. 752. ... 752. 562. 752.]\n",
      "LSVC Accuracy : 0.0\n",
      "i th trial : \n"
     ]
    },
    {
     "name": "stderr",
     "output_type": "stream",
     "text": [
      "c:\\users\\pc\\appdata\\local\\programs\\python\\python36\\lib\\site-packages\\sklearn\\svm\\base.py:931: ConvergenceWarning: Liblinear failed to converge, increase the number of iterations.\n",
      "  \"the number of iterations.\", ConvergenceWarning)\n"
     ]
    },
    {
     "name": "stdout",
     "output_type": "stream",
     "text": [
      "[757. 757. 757. ... 757. 757. 757.]\n",
      "LSVC Accuracy : 0.0\n",
      "i th trial : \n"
     ]
    },
    {
     "name": "stderr",
     "output_type": "stream",
     "text": [
      "c:\\users\\pc\\appdata\\local\\programs\\python\\python36\\lib\\site-packages\\sklearn\\svm\\base.py:931: ConvergenceWarning: Liblinear failed to converge, increase the number of iterations.\n",
      "  \"the number of iterations.\", ConvergenceWarning)\n"
     ]
    },
    {
     "name": "stdout",
     "output_type": "stream",
     "text": [
      "[655. 655. 655. ... 655. 655. 655.]\n",
      "LSVC Accuracy : 0.0007142857142857143\n",
      "i th trial : \n"
     ]
    },
    {
     "name": "stderr",
     "output_type": "stream",
     "text": [
      "c:\\users\\pc\\appdata\\local\\programs\\python\\python36\\lib\\site-packages\\sklearn\\svm\\base.py:931: ConvergenceWarning: Liblinear failed to converge, increase the number of iterations.\n",
      "  \"the number of iterations.\", ConvergenceWarning)\n"
     ]
    },
    {
     "name": "stdout",
     "output_type": "stream",
     "text": [
      "[530. 530. 530. ... 530. 530. 530.]\n",
      "LSVC Accuracy : 0.0007142857142857143\n",
      "i th trial : \n"
     ]
    },
    {
     "name": "stderr",
     "output_type": "stream",
     "text": [
      "c:\\users\\pc\\appdata\\local\\programs\\python\\python36\\lib\\site-packages\\sklearn\\svm\\base.py:931: ConvergenceWarning: Liblinear failed to converge, increase the number of iterations.\n",
      "  \"the number of iterations.\", ConvergenceWarning)\n"
     ]
    },
    {
     "name": "stdout",
     "output_type": "stream",
     "text": [
      "[668. 668. 668. ... 607. 607. 607.]\n",
      "LSVC Accuracy : 0.0014285714285714286\n",
      "i th trial : \n"
     ]
    },
    {
     "name": "stderr",
     "output_type": "stream",
     "text": [
      "c:\\users\\pc\\appdata\\local\\programs\\python\\python36\\lib\\site-packages\\sklearn\\svm\\base.py:931: ConvergenceWarning: Liblinear failed to converge, increase the number of iterations.\n",
      "  \"the number of iterations.\", ConvergenceWarning)\n"
     ]
    },
    {
     "name": "stdout",
     "output_type": "stream",
     "text": [
      "[  1.   1. 757. ...   1.   1.   1.]\n",
      "LSVC Accuracy : 0.0014285714285714286\n",
      "i th trial : \n",
      "[698. 698. 698. ... 698. 698. 698.]\n",
      "LSVC Accuracy : 0.002142857142857143\n"
     ]
    },
    {
     "name": "stderr",
     "output_type": "stream",
     "text": [
      "c:\\users\\pc\\appdata\\local\\programs\\python\\python36\\lib\\site-packages\\sklearn\\svm\\base.py:931: ConvergenceWarning: Liblinear failed to converge, increase the number of iterations.\n",
      "  \"the number of iterations.\", ConvergenceWarning)\n"
     ]
    }
   ],
   "source": [
    "from sklearn.svm import LinearSVC\n",
    "from sklearn.preprocessing import StandardScaler\n",
    "from sklearn.metrics import accuracy_score, classification_report\n",
    "\n",
    "scaler = StandardScaler()\n",
    "i = 0\n",
    "while i < 10:\n",
    "    print(\"i th trial : \")\n",
    "    scaler.fit(fold[i])\n",
    "    clf = LinearSVC(C = 10, max_iter = 200)\n",
    "    clf.fit(fold[i], label_fold[i])\n",
    "    model = clf.predict(hop[i])\n",
    "    print(clf.predict(hop[i]))\n",
    "    print(\"LSVC Accuracy :\", accuracy_score(hopl[i], model))\n",
    "    i = i + 1"
   ]
  },
  {
   "cell_type": "code",
   "execution_count": null,
   "metadata": {},
   "outputs": [],
   "source": [
    "from sklearn.svm import LinearSVC\n",
    "from sklearn.preprocessing import StandardScaler\n",
    "from sklearn.metrics import accuracy_score, classification_report\n",
    "\n",
    "scaler = StandardScaler()\n",
    "i = 0\n",
    "while i < 10:\n",
    "    print(\"i th trial : \")\n",
    "    scaler.fit(fold[i])\n",
    "    clf = LinearSVC(C = 10 ** 2, max_iter = 2000)\n",
    "    clf.fit(fold[i], label_fold[i])\n",
    "    model = clf.predict(hop[i])\n",
    "    print(clf.predict(hop[i]))\n",
    "    print(\"LSVC Accuracy :\", accuracy_score(hopl[i], model))\n",
    "    i = i + 1"
   ]
  },
  {
   "cell_type": "code",
   "execution_count": 22,
   "metadata": {},
   "outputs": [
    {
     "name": "stdout",
     "output_type": "stream",
     "text": [
      "[374. 374. 374. ...  62.  62.  62.]\n",
      "LSVC Accuracy : 0.010657193605683837\n",
      "[[0 0 2 ... 0 0 0]\n",
      " [0 0 7 ... 0 0 0]\n",
      " [0 0 6 ... 0 0 0]\n",
      " ...\n",
      " [0 0 0 ... 0 0 0]\n",
      " [0 0 0 ... 0 0 0]\n",
      " [0 0 0 ... 0 0 0]]\n"
     ]
    }
   ],
   "source": [
    "from sklearn.svm import LinearSVC\n",
    "from sklearn.preprocessing import StandardScaler\n",
    "from sklearn.metrics import accuracy_score, classification_report\n",
    "from sklearn.metrics import confusion_matrix\n",
    "\n",
    "scaler = StandardScaler()\n",
    "scaler.fit(features_list)\n",
    "clf = LinearSVC(C = 10 ** -2, max_iter = 2000)\n",
    "clf.fit(features_list, labels_list)\n",
    "model = clf.predict(features_test_list)\n",
    "print(clf.predict(features_test_list))\n",
    "print(\"LSVC Accuracy :\", accuracy_score(labels_test_list, model))\n",
    "cnf_matrix = confusion_matrix(labels_test_list, model)\n",
    "print(cnf_matrix)\n"
   ]
  },
  {
   "cell_type": "code",
   "execution_count": 9,
   "metadata": {},
   "outputs": [
    {
     "name": "stdout",
     "output_type": "stream",
     "text": [
      "[64. 64. 90. ... 64. 64. 64.]\n",
      "LSVC Accuracy : 0.014801657785671996\n"
     ]
    }
   ],
   "source": [
    "from sklearn.svm import SVC\n",
    "from sklearn.preprocessing import StandardScaler\n",
    "from sklearn.metrics import accuracy_score, classification_report\n",
    "from sklearn.metrics import confusion_matrix\n",
    "scaler = StandardScaler()\n",
    "scaler.fit(features_list)\n",
    "clf = SVC(kernel='rbf', random_state=0, gamma=.0002, C=1)\n",
    "clf.fit(features_list, labels_list)\n",
    "model = clf.predict(features_test_list)\n",
    "print(clf.predict(features_test_list))\n",
    "print(\"LSVC Accuracy :\", accuracy_score(labels_test_list, model))\n",
    "cnf_matrix = confusion_matrix(labels_test_list, model)"
   ]
  },
  {
   "cell_type": "code",
   "execution_count": 10,
   "metadata": {},
   "outputs": [
    {
     "name": "stdout",
     "output_type": "stream",
     "text": [
      "[106. 106. 106. ... 152. 152. 152.]\n",
      "LSVC Accuracy : 0.011545293072824156\n"
     ]
    }
   ],
   "source": [
    "from sklearn.svm import LinearSVC\n",
    "from sklearn.preprocessing import StandardScaler\n",
    "from sklearn.metrics import accuracy_score, classification_report\n",
    "from sklearn.metrics import confusion_matrix\n",
    "scaler = StandardScaler()\n",
    "scaler.fit(features_list)\n",
    "clf = SVC(kernel='rbf', random_state=0, gamma=.002, C=1)\n",
    "clf.fit(features_list, labels_list)\n",
    "model = clf.predict(features_test_list)\n",
    "print(clf.predict(features_test_list))\n",
    "print(\"LSVC Accuracy :\", accuracy_score(labels_test_list, model))\n",
    "cnf_matrix = confusion_matrix(labels_test_list, model)"
   ]
  },
  {
   "cell_type": "code",
   "execution_count": 11,
   "metadata": {},
   "outputs": [
    {
     "name": "stdout",
     "output_type": "stream",
     "text": [
      "[165. 165. 374. ...  95.  95.  95.]\n",
      "LSVC Accuracy : 0.012729425695677915\n"
     ]
    }
   ],
   "source": [
    "from sklearn.svm import LinearSVC\n",
    "from sklearn.preprocessing import StandardScaler\n",
    "from sklearn.metrics import accuracy_score, classification_report\n",
    "from sklearn.metrics import confusion_matrix\n",
    "scaler = StandardScaler()\n",
    "scaler.fit(features_list)\n",
    "clf = SVC(kernel='rbf', random_state=0, gamma=.02, C=1)\n",
    "clf.fit(features_list, labels_list)\n",
    "model = clf.predict(features_test_list)\n",
    "print(clf.predict(features_test_list))\n",
    "print(\"LSVC Accuracy :\", accuracy_score(labels_test_list, model))\n",
    "cnf_matrix = confusion_matrix(labels_test_list, model)\n"
   ]
  },
  {
   "cell_type": "code",
   "execution_count": 12,
   "metadata": {},
   "outputs": [
    {
     "name": "stdout",
     "output_type": "stream",
     "text": [
      "[380. 380. 302. ... 139.  45.  45.]\n",
      "LSVC Accuracy : 0.014505624629958556\n"
     ]
    }
   ],
   "source": [
    "from sklearn.svm import LinearSVC\n",
    "from sklearn.preprocessing import StandardScaler\n",
    "from sklearn.metrics import accuracy_score, classification_report\n",
    "from sklearn.metrics import confusion_matrix\n",
    "scaler = StandardScaler()\n",
    "scaler.fit(features_list)\n",
    "clf = SVC(kernel='rbf', random_state=0, gamma=.2, C=1)\n",
    "clf.fit(features_list, labels_list)\n",
    "model = clf.predict(features_test_list)\n",
    "print(clf.predict(features_test_list))\n",
    "print(\"LSVC Accuracy :\", accuracy_score(labels_test_list, model))\n",
    "cnf_matrix = confusion_matrix(labels_test_list, model)"
   ]
  },
  {
   "cell_type": "code",
   "execution_count": 13,
   "metadata": {},
   "outputs": [
    {
     "name": "stdout",
     "output_type": "stream",
     "text": [
      "[259. 390. 373. ... 121.  27.  29.]\n",
      "LSVC Accuracy : 0.012433392539964476\n"
     ]
    }
   ],
   "source": [
    "from sklearn.svm import LinearSVC\n",
    "from sklearn.preprocessing import StandardScaler\n",
    "from sklearn.metrics import accuracy_score, classification_report\n",
    "from sklearn.metrics import confusion_matrix\n",
    "scaler = StandardScaler()\n",
    "scaler.fit(features_list)\n",
    "clf = SVC(kernel='rbf', random_state=0, gamma=2, C=1)\n",
    "clf.fit(features_list, labels_list)\n",
    "model = clf.predict(features_test_list)\n",
    "print(clf.predict(features_test_list))\n",
    "print(\"LSVC Accuracy :\", accuracy_score(labels_test_list, model))\n",
    "cnf_matrix = confusion_matrix(labels_test_list, model)"
   ]
  },
  {
   "cell_type": "code",
   "execution_count": null,
   "metadata": {},
   "outputs": [],
   "source": []
  }
 ],
 "metadata": {
  "kernelspec": {
   "display_name": "Python 3",
   "language": "python",
   "name": "python3"
  },
  "language_info": {
   "codemirror_mode": {
    "name": "ipython",
    "version": 3
   },
   "file_extension": ".py",
   "mimetype": "text/x-python",
   "name": "python",
   "nbconvert_exporter": "python",
   "pygments_lexer": "ipython3",
   "version": "3.6.8"
  }
 },
 "nbformat": 4,
 "nbformat_minor": 2
}
