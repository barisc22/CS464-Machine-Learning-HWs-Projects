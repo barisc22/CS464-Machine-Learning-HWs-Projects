{
 "cells": [
  {
   "cell_type": "code",
   "execution_count": 1,
   "metadata": {},
   "outputs": [
    {
     "data": {
      "text/plain": [
       "array([[ 1.    ,  1.    ,  6.    , ...,  0.2727,  0.8   ,  0.    ],\n",
       "       [ 1.    ,  2.    ,  6.    , ...,  0.2727,  0.8   ,  0.    ],\n",
       "       [ 1.    ,  3.    ,  6.    , ...,  0.2879,  0.75  ,  0.    ],\n",
       "       ...,\n",
       "       [ 8.    , 11.    ,  6.    , ...,  0.697 ,  0.66  ,  0.1642],\n",
       "       [ 8.    , 12.    ,  6.    , ...,  0.7121,  0.58  ,  0.2239],\n",
       "       [ 8.    , 13.    ,  6.    , ...,  0.7424,  0.49  ,  0.3582]])"
      ]
     },
     "execution_count": 1,
     "metadata": {},
     "output_type": "execute_result"
    }
   ],
   "source": [
    "    import csv\n",
    "    import numpy as np\n",
    "    from numpy import array\n",
    "    from numpy.linalg import matrix_rank\n",
    "    count = 0\n",
    "    features_list = []\n",
    "    features_list2 = []\n",
    "    with open( \"question-2-train-features.csv\") as csv_hop:\n",
    "              hop = csv.reader(csv_hop, delimiter=\",\", quotechar=\" \")\n",
    "\n",
    "              for vector in hop:\n",
    "                    i = 0\n",
    "                    while(i < 8):\n",
    "                        value2=vector[i].replace(',', '.')\n",
    "                        features_list.append(float(value2))\n",
    "                        features_list2.append(vector[i])\n",
    "                        i = i + 1\n",
    "\n",
    "    features_list = np.reshape(features_list, (14000,8))\n",
    "    mult = (features_list.T).dot(features_list)\n",
    "\n",
    "    features_list"
   ]
  },
  {
   "cell_type": "code",
   "execution_count": 2,
   "metadata": {},
   "outputs": [
    {
     "name": "stdout",
     "output_type": "stream",
     "text": [
      "0.46\n",
      "6.000000000000000000e+00\n"
     ]
    }
   ],
   "source": [
    "count = 0\n",
    "features_test_list = []\n",
    "features_test_list2 = []\n",
    "with open( \"question-2-test-features.csv\") as csv_hop:\n",
    "          hop = csv.reader(csv_hop, delimiter=\",\", quotechar=\" \")\n",
    "\n",
    "          for vector in hop:\n",
    "                i = 0\n",
    "                while(i < 8):\n",
    "                    value2=vector[i].replace(',', '.')\n",
    "                    features_test_list.append(float(value2))\n",
    "                    features_test_list2.append(vector[i])\n",
    "                    i = i + 1\n",
    "                    \n",
    "features_test_list = np.reshape(features_test_list, (3378,8))\n",
    "print(features_test_list[2][6])\n",
    "print(features_test_list2[2])"
   ]
  },
  {
   "cell_type": "code",
   "execution_count": 3,
   "metadata": {},
   "outputs": [
    {
     "name": "stdout",
     "output_type": "stream",
     "text": [
      "531.0\n",
      "5.310000000000000000e+02\n"
     ]
    }
   ],
   "source": [
    "count = 0\n",
    "labels_test_list = []\n",
    "labels_test_list2 = []\n",
    "with open( \"question-2-test-labels.csv\") as csv_hop:\n",
    "          hop = csv.reader(csv_hop, delimiter=\" \")\n",
    "\n",
    "          for vector in hop:\n",
    "                value2=vector[0].replace(',', '.')\n",
    "                labels_test_list.append(float(value2))\n",
    "                labels_test_list2.append(vector[0])\n",
    "            \n",
    "print(labels_test_list[2])\n",
    "print(labels_test_list2[2])"
   ]
  },
  {
   "cell_type": "code",
   "execution_count": 4,
   "metadata": {},
   "outputs": [
    {
     "name": "stdout",
     "output_type": "stream",
     "text": [
      "13.0\n",
      "1.300000000000000000e+01\n"
     ]
    }
   ],
   "source": [
    "count = 0\n",
    "labels_list = []\n",
    "labels_list2 = []\n",
    "with open( \"question-2-train-labels.csv\") as csv_hop:\n",
    "          hop = csv.reader(csv_hop, delimiter=\" \")\n",
    "\n",
    "          for vector in hop:\n",
    "                value2=vector[0].replace(',', '.')\n",
    "                labels_list.append(float(value2))\n",
    "                labels_list2.append(vector[0])\n",
    "            \n",
    "print(labels_list[2])\n",
    "print(labels_list2[2])"
   ]
  },
  {
   "cell_type": "code",
   "execution_count": 5,
   "metadata": {},
   "outputs": [
    {
     "name": "stdout",
     "output_type": "stream",
     "text": [
      "[[5.94113000e+05 9.13775000e+05 2.39909000e+05 1.12209000e+05\n",
      "  4.29418000e+04 4.09532920e+04 5.10976200e+04 1.45752917e+04]\n",
      " [9.13775000e+05 2.53542700e+06 4.85069000e+05 2.28055000e+05\n",
      "  8.35966800e+04 7.97845330e+04 9.54953600e+04 3.30456626e+04]\n",
      " [2.39909000e+05 4.85069000e+05 1.82721000e+05 6.01020000e+04\n",
      "  2.10510400e+04 2.01489236e+04 2.60870500e+04 8.17637090e+03]\n",
      " [1.12209000e+05 2.28055000e+05 6.01020000e+04 3.40680000e+04\n",
      "  9.77454000e+03 9.36779760e+03 1.31566700e+04 3.87328330e+03]\n",
      " [4.29418000e+04 8.35966800e+04 2.10510400e+04 9.77454000e+03\n",
      "  4.06088520e+03 3.84888371e+03 4.33330000e+03 1.35070517e+03]\n",
      " [4.09532920e+04 7.97845330e+04 2.01489236e+04 9.36779760e+03\n",
      "  3.84888371e+03 3.65694245e+03 4.15969120e+03 1.28249616e+03]\n",
      " [5.10976200e+04 9.54953600e+04 2.60870500e+04 1.31566700e+04\n",
      "  4.33330000e+03 4.15969120e+03 5.98853380e+03 1.59304235e+03]\n",
      " [1.45752917e+04 3.30456626e+04 8.17637090e+03 3.87328330e+03\n",
      "  1.35070517e+03 1.28249616e+03 1.59304235e+03 7.37801752e+02]]\n"
     ]
    }
   ],
   "source": [
    "print(mult)"
   ]
  },
  {
   "cell_type": "code",
   "execution_count": 6,
   "metadata": {},
   "outputs": [],
   "source": [
    "#print(matrix_rank(mult))\n"
   ]
  },
  {
   "cell_type": "code",
   "execution_count": 7,
   "metadata": {},
   "outputs": [
    {
     "name": "stdout",
     "output_type": "stream",
     "text": [
      "[[ 8.45944247e-06 -1.18723630e-07 -5.31740919e-07  2.80845960e-06\n",
      "  -1.24991987e-05 -4.58781629e-05 -3.55605194e-05  8.76241325e-06]\n",
      " [-1.18723630e-07  1.49588959e-06 -3.90217734e-07 -2.72022367e-06\n",
      "   5.08848744e-05 -7.41475643e-05  5.31676959e-06 -2.17969192e-05]\n",
      " [-5.31740919e-07 -3.90217734e-07  1.65892205e-05 -3.85847639e-06\n",
      "   1.02587039e-04 -1.35389510e-04 -2.30015644e-05 -3.84049193e-05]\n",
      " [ 2.80845960e-06 -2.72022367e-06 -3.85847639e-06  2.18885262e-04\n",
      "  -5.90384559e-05  8.21382613e-05 -4.06734634e-04 -1.96464403e-04]\n",
      " [-1.24991987e-05  5.08848744e-05  1.02587039e-04 -5.90384559e-05\n",
      "   1.23380531e-01 -1.35072299e-01  4.48969679e-03 -3.63614794e-03]\n",
      " [-4.58781629e-05 -7.41475643e-05 -1.35389510e-04  8.21382613e-05\n",
      "  -1.35072299e-01  1.50102265e-01 -5.45512449e-03  3.43630529e-03]\n",
      " [-3.55605194e-05  5.31676959e-06 -2.30015644e-05 -4.06734634e-04\n",
      "   4.48969679e-03 -5.45512449e-03  1.93713278e-03 -6.49747351e-05]\n",
      " [ 8.76241325e-06 -2.17969192e-05 -3.84049193e-05 -1.96464403e-04\n",
      "  -3.63614794e-03  3.43630529e-03 -6.49747351e-05  4.43937284e-03]]\n"
     ]
    }
   ],
   "source": [
    "from numpy.linalg import inv\n",
    "in_mult = inv(mult)\n",
    "print(in_mult)"
   ]
  },
  {
   "cell_type": "code",
   "execution_count": 8,
   "metadata": {},
   "outputs": [
    {
     "name": "stdout",
     "output_type": "stream",
     "text": [
      "[-3.60519180e-01  7.29036401e+00  2.14379482e+00 -3.22105890e+00\n",
      "  4.44128021e-02  3.77156135e+02 -1.60346164e+02  4.94960756e+01]\n"
     ]
    }
   ],
   "source": [
    "d_mult = in_mult.dot(features_list.T)\n",
    "w = d_mult.dot(labels_list)\n",
    "print(w)"
   ]
  },
  {
   "cell_type": "code",
   "execution_count": 9,
   "metadata": {},
   "outputs": [
    {
     "name": "stdout",
     "output_type": "stream",
     "text": [
      "0.8357131192712004\n"
     ]
    }
   ],
   "source": [
    "from numpy import linalg as LA\n",
    "first = features_test_list.dot(w)\n",
    "regression = np.subtract(labels_test_list, first)\n",
    "hop = LA.norm(regression)\n",
    "np.square(hop)\n",
    "hop = hop / 14000\n",
    "print(hop)"
   ]
  },
  {
   "cell_type": "code",
   "execution_count": 10,
   "metadata": {},
   "outputs": [
    {
     "name": "stdout",
     "output_type": "stream",
     "text": [
      "1.1413613456440748\n"
     ]
    }
   ],
   "source": [
    "from numpy import linalg as LA\n",
    "first = features_list.dot(w)\n",
    "regression = np.subtract(labels_list, first)\n",
    "hop = LA.norm(regression)\n",
    "np.square(hop)\n",
    "hop = hop / 14000\n",
    "print(hop)"
   ]
  },
  {
   "cell_type": "code",
   "execution_count": 112,
   "metadata": {},
   "outputs": [
    {
     "name": "stdout",
     "output_type": "stream",
     "text": [
      "0.49\n"
     ]
    },
    {
     "data": {
      "text/plain": [
       "[<matplotlib.lines.Line2D at 0x1b3a66b7358>]"
      ]
     },
     "execution_count": 112,
     "metadata": {},
     "output_type": "execute_result"
    },
    {
     "data": {
      "image/png": "[encoded data removed]",
      "text/plain": [
       "<Figure size 432x288 with 1 Axes>"
      ]
     },
     "metadata": {
      "needs_background": "light"
     },
     "output_type": "display_data"
    }
   ],
   "source": [
    "#2.3 Question\n",
    "import matplotlib.pyplot as plt\n",
    "hum = []\n",
    "hum_test = []\n",
    "i = 0 \n",
    "while(i < 14000):\n",
    "    hum = np.append(hum, features_list[i][6])\n",
    "    i = i + 1\n",
    "    \n",
    "i = 0 \n",
    "while(i < 3378):\n",
    "    hum_test = np.append(hum_test, features_test_list[i][6])\n",
    "    i = i + 1\n",
    "\n",
    "print(hum_test[0])\n",
    "plt.plot(hum, labels_list, 'ro')"
   ]
  },
  {
   "cell_type": "code",
   "execution_count": 116,
   "metadata": {},
   "outputs": [
    {
     "name": "stdout",
     "output_type": "stream",
     "text": [
      "8258053787.386868\n"
     ]
    }
   ],
   "source": [
    "#2.4 Question\n",
    "mult = (hum.T).dot(hum)\n",
    "t_hop = np.multiply(mult, hum.T)\n",
    "hum_w = t_hop.dot(labels_list) \n",
    "print(hum_w)"
   ]
  },
  {
   "cell_type": "code",
   "execution_count": 117,
   "metadata": {},
   "outputs": [
    {
     "name": "stdout",
     "output_type": "stream",
     "text": [
      "22805809.843714666\n"
     ]
    }
   ],
   "source": [
    "first = (hum_test).dot(hum_w)\n",
    "regression = np.subtract(labels_test_list, first)\n",
    "hop = LA.norm(regression)\n",
    "np.square(hop)\n",
    "hop = hop / 14000\n",
    "print(hop)"
   ]
  },
  {
   "cell_type": "code",
   "execution_count": null,
   "metadata": {},
   "outputs": [],
   "source": []
  }
 ],
 "metadata": {
  "kernelspec": {
   "display_name": "Python 3",
   "language": "python",
   "name": "python3"
  },
  "language_info": {
   "codemirror_mode": {
    "name": "ipython",
    "version": 3
   },
   "file_extension": ".py",
   "mimetype": "text/x-python",
   "name": "python",
   "nbconvert_exporter": "python",
   "pygments_lexer": "ipython3",
   "version": "3.6.8"
  }
 },
 "nbformat": 4,
 "nbformat_minor": 2
}
